{
 "cells": [
  {
   "cell_type": "code",
   "execution_count": 6,
   "metadata": {},
   "outputs": [],
   "source": [
    "import crypto\n",
    "\n",
    "contract_address = \"0xd4964Df4dc2eb6B2fD4157DFda264AA9dd720C92\" # PeanutV2\n",
    "dev_address = \"0x6B3751c5b04Aa818EA90115AA06a4D9A36A16f02\"\n",
    "usdc_contract_address = \"0xD87Ba7A50B2E7E660f678A895E4B72E7CB4CCd9C\" # USDC\n",
    "uni_contract_address = \"0x1f9840a85d5aF5bf1D1762F925BDADdC4201F984\" # UNI"
   ]
  },
  {
   "cell_type": "code",
   "execution_count": 7,
   "metadata": {},
   "outputs": [],
   "source": [
    "contract, web3 = crypto.get_contract(address=contract_address, abi=crypto.ABI, network=\"ethereum-goerli\")"
   ]
  },
  {
   "cell_type": "code",
   "execution_count": 8,
   "metadata": {},
   "outputs": [
    {
     "name": "stdout",
     "output_type": "stream",
     "text": [
      "contract owner: 0x6B3751c5b04Aa818EA90115AA06a4D9A36A16f02\n",
      "balance: 0\n",
      "deposit count: 0\n"
     ]
    }
   ],
   "source": [
    "print(f\"contract owner: {contract.functions.owner().call()}\")\n",
    "print(f\"balance: {web3.eth.getBalance(contract_address)}\")\n",
    "print(f\"deposit count: {contract.functions.getDepositCount().call()}\")"
   ]
  },
  {
   "cell_type": "code",
   "execution_count": 37,
   "metadata": {},
   "outputs": [
    {
     "name": "stdout",
     "output_type": "stream",
     "text": [
      "gas used: 148497\n",
      "gas price: 1020\n",
      "gas cost: 151466940\n",
      "gas: 148497, gas_price: 1020, eth_price: 1272.05000000\n",
      "tx total cost: 1.92673521027e-07\n",
      "deposit index: 0\n"
     ]
    }
   ],
   "source": [
    "# make an ether deposit \n",
    "# reference:\n",
    "#      * @dev Function to make a deposit\n",
    "#      * @param _tokenAddress address of the token being sent. 0x0 for eth\n",
    "#      * @param _contractType uint8 for the type of contract being sent. 0 for eth, 1 for erc20, 2 for erc721, 3 for erc1155\n",
    "#      * @param _amount uint256 of the amount of tokens being sent (if erc20)\n",
    "#      * @param _tokenId uint256 of the id of the token being sent if erc721 or erc1155\n",
    "#      * @param _key bytes32 of the hash of the deposit password.\n",
    "#      * @param _lockCost uint256 of the cost in wei to lock the deposit to claimer\n",
    "#      * @param _senderCanWithdraw bool of whether the sender can withdraw the deposit\n",
    "#      * @param _ownerCanWithdraw bool of whether the owner can withdraw the deposit\n",
    "#      * @return uint256 of the index of the deposit\n",
    "\n",
    "pwd = \"test\"\n",
    "pwd_hash = crypto.hash_password(pwd)\n",
    "\n",
    "\n",
    "txn = contract.functions.makeDeposit(\n",
    "    web3.toChecksumAddress(\"0x0000000000000000000000000000000000000000\"), # token address\n",
    "    0,\n",
    "    0,\n",
    "    0,\n",
    "    pwd_hash,\n",
    "    0,\n",
    "    True,\n",
    "    True,\n",
    ").buildTransaction(\n",
    "    {\n",
    "        \"value\": web3.toWei(0.0000167, \"ether\"),\n",
    "        \"gas\": 200000,\n",
    "        \"gasPrice\": web3.eth.gasPrice,\n",
    "        \"nonce\": web3.eth.getTransactionCount(web3.eth.defaultAccount),\n",
    "    }\n",
    ")\n",
    "\n",
    "signed_txn = web3.eth.account.sign_transaction(txn, private_key=crypto.ADMIN_ACCOUNT_KEY)\n",
    "tx_hash = web3.eth.sendRawTransaction(signed_txn.rawTransaction)\n",
    "tx_receipt = web3.eth.waitForTransactionReceipt(tx_hash)\n",
    "\n",
    "\n",
    "# print gas used\n",
    "print(f\"gas used: {tx_receipt.gasUsed}\")\n",
    "print(f\"gas price: {web3.eth.gasPrice}\")\n",
    "print(f\"gas cost: {web3.eth.gasPrice * tx_receipt.gasUsed}\")\n",
    "print(f\"tx total cost: {crypto.estimate_cost(tx_receipt.gasUsed, 'ethereum', web3)}\")\n",
    "\n",
    "\n",
    "# get deposit index from event\n",
    "deposit_index = tx_receipt.logs[0].data\n",
    "# turn from hex to int\n",
    "deposit_index = int(deposit_index, 16)\n",
    "print(f\"deposit index: {deposit_index}\")\n"
   ]
  },
  {
   "cell_type": "code",
   "execution_count": 13,
   "metadata": {},
   "outputs": [
    {
     "name": "stdout",
     "output_type": "stream",
     "text": [
      "gas: 131403, gas_price: 1018, eth_price: 1271.01000000\n"
     ]
    },
    {
     "data": {
      "text/plain": [
       "1.7002078851654e-07"
      ]
     },
     "execution_count": 13,
     "metadata": {},
     "output_type": "execute_result"
    }
   ],
   "source": [
    "# tx cost\n",
    "crypto.estimate_cost(tx_receipt.gasUsed, \"ethereum\", web3)"
   ]
  },
  {
   "cell_type": "code",
   "execution_count": 10,
   "metadata": {},
   "outputs": [
    {
     "name": "stdout",
     "output_type": "stream",
     "text": [
      "contract owner: 0x6B3751c5b04Aa818EA90115AA06a4D9A36A16f02\n",
      "balance: 0\n",
      "deposit count: 1\n"
     ]
    }
   ],
   "source": [
    "print(f\"contract owner: {contract.functions.owner().call()}\")\n",
    "print(f\"balance: {web3.eth.getBalance(contract_address)}\")\n",
    "print(f\"deposit count: {contract.functions.getDepositCount().call()}\")"
   ]
  },
  {
   "cell_type": "code",
   "execution_count": 9,
   "metadata": {},
   "outputs": [
    {
     "name": "stdout",
     "output_type": "stream",
     "text": [
      "AttributeDict({'blockHash': HexBytes('0x1dfdcd043c64719ed50ccfa511fde6e64fabfaf9a079572e6bc2aa4de2a5184f'), 'blockNumber': 8066584, 'contractAddress': None, 'cumulativeGasUsed': 6842381, 'effectiveGasPrice': 1016, 'from': '0x6B3751c5b04Aa818EA90115AA06a4D9A36A16f02', 'gasUsed': 56077, 'logs': [AttributeDict({'address': '0xeCDB0A54881fd12146BA257Ab37dcdbDB85aACD5', 'blockHash': HexBytes('0x1dfdcd043c64719ed50ccfa511fde6e64fabfaf9a079572e6bc2aa4de2a5184f'), 'blockNumber': 8066584, 'data': '0x00000000000000000000000000000000000000000000000000003ca9cdce7800', 'logIndex': 115, 'removed': False, 'topics': [HexBytes('0x884edad9ce6fa2440d8a54cc123490eb96d2768479d49ff9c7366125a9424364'), HexBytes('0x000000000000000000000000d3222f01b4154528cec2807d99385d0fa4473a31')], 'transactionHash': HexBytes('0xcbe0a26ac9ab2d20a8d885d59815443e804e7ecc671d3b995c28bdf19600feef'), 'transactionIndex': 56})], 'logsBloom': HexBytes('0x00000000000000000000000000000000000000000000000000100000000000000000000000000000000000000000000000000000000000000000000000000000000000000000000000000000000000000000000000000000000000000000000000000000000000000000000000000000000000000000000000000000000004001000000000000000000002000000000000000000000000000000000000000000000000100000000000000000000000000000000000000000000000000000000020000000000000000000000000000000000000000000000000002000000000000000000000000000000000000000000000000000000000002000200000000000'), 'status': 1, 'to': '0xeCDB0A54881fd12146BA257Ab37dcdbDB85aACD5', 'transactionHash': HexBytes('0xcbe0a26ac9ab2d20a8d885d59815443e804e7ecc671d3b995c28bdf19600feef'), 'transactionIndex': 56, 'type': '0x0'})\n"
     ]
    }
   ],
   "source": [
    "# now try to claim the deposit (withdrawDepositOwner())\n",
    "# inputs: int256 _index, address _recipient)\n",
    "\n",
    "txn = contract.functions.withdrawOwner(\n",
    "    deposit_index,\n",
    "    web3.toChecksumAddress(\"0xd3222f01b4154528ceC2807D99385d0fA4473A31\"),\n",
    ").buildTransaction(\n",
    "    {\n",
    "        \"gas\": 200000,\n",
    "        \"gasPrice\": web3.eth.gasPrice,\n",
    "        \"nonce\": web3.eth.getTransactionCount(web3.eth.defaultAccount),\n",
    "    }\n",
    ")\n",
    "\n",
    "signed_txn = web3.eth.account.sign_transaction(txn, private_key=crypto.ADMIN_ACCOUNT_KEY)\n",
    "tx_hash = web3.eth.sendRawTransaction(signed_txn.rawTransaction)\n",
    "tx_receipt = web3.eth.waitForTransactionReceipt(tx_hash)\n",
    "\n",
    "print(tx_receipt)   "
   ]
  },
  {
   "cell_type": "code",
   "execution_count": 11,
   "metadata": {},
   "outputs": [
    {
     "name": "stdout",
     "output_type": "stream",
     "text": [
      "1\n",
      "('0x0000000000000000000000000000000000000000', 0, 0, 0, '0x0000000000000000000000000000000000000000', b'\\x00\\x00\\x00\\x00\\x00\\x00\\x00\\x00\\x00\\x00\\x00\\x00\\x00\\x00\\x00\\x00\\x00\\x00\\x00\\x00\\x00\\x00\\x00\\x00\\x00\\x00\\x00\\x00\\x00\\x00\\x00\\x00', '0x0000000000000000000000000000000000000000', 0, 0, False, False)\n"
     ]
    }
   ],
   "source": [
    "# print amount of deposits\n",
    "print(contract.functions.getDepositCount().call())\n",
    "\n",
    "# print each deposit\n",
    "for i in range(contract.functions.getDepositCount().call()):\n",
    "    print(contract.functions.getDeposit(i).call())\n",
    "    "
   ]
  },
  {
   "cell_type": "code",
   "execution_count": 39,
   "metadata": {},
   "outputs": [
    {
     "name": "stdout",
     "output_type": "stream",
     "text": [
      "AttributeDict({'blockHash': HexBytes('0x0e3fd0601b8aa0b6e800c149dc1ba0482b046ddeed2e1582d89c345fdc2bf346'), 'blockNumber': 8066552, 'contractAddress': None, 'cumulativeGasUsed': 9935019, 'effectiveGasPrice': 1026, 'from': '0x6B3751c5b04Aa818EA90115AA06a4D9A36A16f02', 'gasUsed': 28725, 'logs': [], 'logsBloom': HexBytes('0x00000000000000000000000000000000000000000000000000000000000000000000000000000000000000000000000000000000000000000000000000000000000000000000000000000000000000000000000000000000000000000000000000000000000000000000000000000000000000000000000000000000000000000000000000000000000000000000000000000000000000000000000000000000000000000000000000000000000000000000000000000000000000000000000000000000000000000000000000000000000000000000000000000000000000000000000000000000000000000000000000000000000000000000000000000000'), 'status': 0, 'to': '0x7105b1fB681ba40316806E8CE08F715aD4165d5A', 'transactionHash': HexBytes('0xdb1cec6368ef60dea503ce18c7fab275b3078faaae46e5f056a1b082dcb42db9'), 'transactionIndex': 46, 'type': '0x0'})\n"
     ]
    }
   ],
   "source": [
    "# now try to claim the deposit (withdrawDepositOwner())\n",
    "# inputs: int256 _index, address _recipient)\n",
    "\n",
    "txn = contract.functions.withdrawDepositOwner(\n",
    "    deposit_index,\n",
    "    web3.toChecksumAddress(\"0xd3222f01b4154528ceC2807D99385d0fA4473A31\"),\n",
    ").buildTransaction(\n",
    "    {\n",
    "        \"gas\": 200000,\n",
    "        \"gasPrice\": web3.eth.gasPrice,\n",
    "        \"nonce\": web3.eth.getTransactionCount(web3.eth.defaultAccount),\n",
    "    }\n",
    ")\n",
    "\n",
    "signed_txn = web3.eth.account.sign_transaction(txn, private_key=crypto.ADMIN_ACCOUNT_KEY)\n",
    "tx_hash = web3.eth.sendRawTransaction(signed_txn.rawTransaction)\n",
    "tx_receipt = web3.eth.waitForTransactionReceipt(tx_hash)\n",
    "\n",
    "print(tx_receipt)"
   ]
  },
  {
   "cell_type": "code",
   "execution_count": 20,
   "metadata": {},
   "outputs": [
    {
     "name": "stdout",
     "output_type": "stream",
     "text": [
      "0xcd7e6ebec29b83c34c445ee45aa57c983e201e3de9e05e88bd86ca353204d323\n",
      "tx_status: 1\n",
      "gas used: 192349\n",
      "gas price: 1010\n",
      "gas cost: 194272490\n",
      "gas: 192349, gas_price: 1010, eth_price: 1268.35000000\n",
      "tx total cost: 2.464055126915e-07\n",
      "deposit index: 926336713898529563388567880069503262826159877325124512315660672063305037119488000000000000001\n"
     ]
    }
   ],
   "source": [
    "# now lets make an erc20 deposit\n",
    "# reference:\n",
    "#      * @dev Function to make a deposit\n",
    "#      * @param _tokenAddress address of the token being sent. 0x0 for eth\n",
    "#      * @param _contractType uint8 for the type of contract being sent. 0 for eth, 1 for erc20, 2 for erc721, 3 for erc1155\n",
    "#      * @param _amount uint256 of the amount of tokens being sent (if erc20)\n",
    "#      * @param _tokenId uint256 of the id of the token being sent if erc721 or erc1155\n",
    "#      * @param _key bytes32 of the hash of the deposit password.\n",
    "#      * @param _lockCost uint256 of the cost in wei to lock the deposit to claimer\n",
    "#      * @param _senderCanWithdraw bool of whether the sender can withdraw the deposit\n",
    "#      * @param _ownerCanWithdraw bool of whether the owner can withdraw the deposit\n",
    "#      * @return uint256 of the index of the deposit\n",
    "\n",
    "pwd = \"test\"\n",
    "pwd_hash = crypto.hash_password(pwd)\n",
    "\n",
    "# send 0.008 uni tokens to the contract (token has 18 decimals)\n",
    "txn = contract.functions.makeDeposit(\n",
    "    web3.toChecksumAddress(uni_contract_address), # USDC on goerli token address\n",
    "    1,\n",
    "    int(0.008 * 10**18),   \n",
    "    0,\n",
    "    pwd_hash,\n",
    "    0,\n",
    "    True,\n",
    "    True,\n",
    ").buildTransaction(\n",
    "    {\n",
    "        \"value\": web3.toWei(0.0, \"ether\"),\n",
    "        \"gas\": 200000,\n",
    "        \"gasPrice\": web3.eth.gasPrice,\n",
    "        \"nonce\": web3.eth.getTransactionCount(web3.eth.defaultAccount),\n",
    "    }\n",
    ")\n",
    "\n",
    "signed_txn = web3.eth.account.sign_transaction(txn, private_key=crypto.ADMIN_ACCOUNT_KEY)\n",
    "tx_hash = web3.eth.sendRawTransaction(signed_txn.rawTransaction)\n",
    "tx_receipt = web3.eth.waitForTransactionReceipt(tx_hash)\n",
    "print(tx_receipt.transactionHash.hex())\n",
    "print(f\"tx_status: {tx_receipt.status}\")\n",
    "if tx_receipt.status == 0:\n",
    "    print(\"tx failed\")\n",
    "    # print why it failed\n",
    "    print(web3.eth.getTransactionReceipt(tx_hash).logs[0].data)\n",
    "\n",
    "# print gas used\n",
    "print(f\"gas used: {tx_receipt.gasUsed}\")\n",
    "print(f\"gas price: {web3.eth.gasPrice}\")\n",
    "print(f\"gas cost: {web3.eth.gasPrice * tx_receipt.gasUsed}\")\n",
    "print(f\"tx total cost: {crypto.estimate_cost(tx_receipt.gasUsed, 'ethereum', web3)}\")\n",
    "\n",
    "# get deposit index from event\n",
    "deposit_index = tx_receipt.logs[-1].data\n",
    "# turn from hex to int\n",
    "deposit_index = int(deposit_index, 16)\n",
    "print(f\"deposit index: {deposit_index}\")\n"
   ]
  },
  {
   "cell_type": "code",
   "execution_count": 17,
   "metadata": {},
   "outputs": [
    {
     "name": "stdout",
     "output_type": "stream",
     "text": [
      "execution reverted: INSUFFICIENT ALLOWANCE\n"
     ]
    }
   ],
   "source": [
    "# fetch a reverted transaction:\n",
    "tx = web3.eth.get_transaction(tx_receipt.transactionHash.hex())\n",
    "# build a new transaction to replay:\n",
    "replay_tx = {\n",
    "    'to': tx['to'],\n",
    "    'from': tx['from'],\n",
    "    'value': tx['value'],\n",
    "    'data': tx['input'],\n",
    "}\n",
    "\n",
    "# replay the transaction locally and print revert reason:\n",
    "try:\n",
    "    web3.eth.call(replay_tx, tx.blockNumber - 1)\n",
    "except Exception as e: \n",
    "    print(e)\n"
   ]
  },
  {
   "cell_type": "code",
   "execution_count": 12,
   "metadata": {},
   "outputs": [
    {
     "name": "stdout",
     "output_type": "stream",
     "text": [
      "deposit count: 1\n",
      "('0x1f9840a85d5aF5bf1D1762F925BDADdC4201F984', 1, 1, 0, '0x6B3751c5b04Aa818EA90115AA06a4D9A36A16f02', b'\\xba\\xa7c\\x83:ro\\x12+\\xe4\\x9c\\xd7\\x13\\xda\\xfb\\xe7%N\\x04{\\xa19\\xe6?r\\xa5\\xf1;\\xb4m\\x02\\xd6', '0x0000000000000000000000000000000000000000', 0, 0, True, True)\n"
     ]
    }
   ],
   "source": [
    "# print all deposits\n",
    "print(f\"deposit count: {contract.functions.getDepositCount().call()}\")\n",
    "for i in range(contract.functions.getDepositCount().call()):\n",
    "    print(contract.functions.getDeposit(i).call())\n",
    "    "
   ]
  },
  {
   "cell_type": "code",
   "execution_count": null,
   "metadata": {},
   "outputs": [],
   "source": []
  }
 ],
 "metadata": {
  "kernelspec": {
   "display_name": "Python 3.10.6 ('venv': venv)",
   "language": "python",
   "name": "python3"
  },
  "language_info": {
   "codemirror_mode": {
    "name": "ipython",
    "version": 3
   },
   "file_extension": ".py",
   "mimetype": "text/x-python",
   "name": "python",
   "nbconvert_exporter": "python",
   "pygments_lexer": "ipython3",
   "version": "3.10.6"
  },
  "orig_nbformat": 4,
  "vscode": {
   "interpreter": {
    "hash": "61a19414a2beb8621922a0ec8fba9552491fba7a404191378d93c5782b625803"
   }
  }
 },
 "nbformat": 4,
 "nbformat_minor": 2
}
