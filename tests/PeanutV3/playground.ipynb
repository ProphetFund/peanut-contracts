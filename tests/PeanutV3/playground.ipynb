{
 "cells": [
  {
   "cell_type": "code",
   "execution_count": 84,
   "metadata": {},
   "outputs": [
    {
     "name": "stdout",
     "output_type": "stream",
     "text": [
      "b'hello world'\n",
      "{'address': '0x09332B1E45e6172fB26E46B3DB4411201547560a', 'privateKey': '0xb94d27b9934d3e08a52e52d7da7dabfac484efe37a5380ee9088f7ace2efcde9'}\n"
     ]
    }
   ],
   "source": [
    "import hashlib\n",
    "import web3\n",
    "from eth_account.messages import encode_defunct\n",
    "\n",
    "\n",
    "def generate_keys_from_string(string: str) -> dict:\n",
    "    \"\"\"generates a key pair from an arbitrary length string\n",
    "    Has same results as Javascript generateKeysFromString()\n",
    "    \"\"\"\n",
    "    \n",
    "    str_bytes = string.encode()\n",
    "    print(str_bytes)\n",
    "    id = hashlib.sha256(string.encode()).hexdigest()\n",
    "    private_key = \"0x\" + id\n",
    "    w3 = web3.Web3()\n",
    "    wallet = w3.eth.account.from_key(private_key)\n",
    "\n",
    "    return {\"address\": wallet.address, \"privateKey\": wallet.key.hex()}\n",
    "\n",
    "\n",
    "\n",
    "if __name__ == \"__main__\":\n",
    "    print(generate_keys_from_string('hello world'))\n",
    "\n",
    "# from JS:\n"
   ]
  },
  {
   "cell_type": "code",
   "execution_count": 4,
   "metadata": {},
   "outputs": [
    {
     "data": {
      "text/plain": [
       "{'address': '0x5ccfa55C29F0522f062E3C15004E35a69dD45F6B',\n",
       " 'privateKey': '0x1c8aff950685c2ed4bc3174f3472287b56d9517b9c948127319a09a7a36deac8'}"
      ]
     },
     "execution_count": 4,
     "metadata": {},
     "output_type": "execute_result"
    }
   ],
   "source": [
    "generateKeysFromString(\"hello\")"
   ]
  },
  {
   "cell_type": "code",
   "execution_count": 53,
   "metadata": {},
   "outputs": [
    {
     "name": "stdout",
     "output_type": "stream",
     "text": [
      "b'hello world'\n"
     ]
    }
   ],
   "source": [
    "import hashlib\n",
    "from web3 import Web3\n",
    "import eth_account\n",
    "\n",
    "def solidity_hash_address(address):\n",
    "    # hashes an address to a 32 byte hex string\n",
    "    return Web3.solidityKeccak([\"address\"], [address])\n",
    "\n",
    "def sign_address(string, private_key):\n",
    "    # 1. hash plain address\n",
    "    string_hash = solidity_hash_address(string)\n",
    "    \n",
    "    # >FILL OUT THIS PART<\n",
    "\n",
    "    # 2. add eth msg prefix, then hash, then sign\n",
    "    w3 = Web3()\n",
    "    message = w3.eth.account.sign_message( ... , private_key=private_key)\n",
    "    return message.signature.hex()\n",
    "\n",
    "\n",
    "receiver_address = \"0x5B38Da6a701c568545dCfcB03FcB875f56beddC4\"\n",
    "base_phrase = \"hello world\"\n",
    "keys = generate_keys_from_string(base_phrase)\n",
    "private_key = keys[\"privateKey\"]"
   ]
  },
  {
   "cell_type": "code",
   "execution_count": 55,
   "metadata": {},
   "outputs": [
    {
     "ename": "SyntaxError",
     "evalue": "invalid hexadecimal literal (3315239537.py, line 13)",
     "output_type": "error",
     "traceback": [
      "\u001b[0;36m  Cell \u001b[0;32mIn [55], line 13\u001b[0;36m\u001b[0m\n\u001b[0;31m    // assert string is an address (starts with 0x and is 42 chars long)\u001b[0m\n\u001b[0m                                                 ^\u001b[0m\n\u001b[0;31mSyntaxError\u001b[0m\u001b[0;31m:\u001b[0m invalid hexadecimal literal\n"
     ]
    }
   ],
   "source": [
    "# h@hugomontenegro.com\n",
    "# Translate the following JavaScript Code to Python. You may use web3.py, eth_account, and other libraries.\n",
    "\n",
    "# <JS CODE>\n",
    "\n",
    "# function solidityHashAddress(address) {\n",
    "#     /* hashes an address to a 32 byte hex string */\n",
    "#     return ethers.utils.solidityKeccak256([\"address\"], [address]);\n",
    "# }\n",
    "\n",
    "\n",
    "# async function signAddress(string, privateKey) {\n",
    "#     // assert string is an address (starts with 0x and is 42 chars long)\n",
    "#     assert(string.startsWith(\"0x\") && string.length == 42, \"String is not an address\");\n",
    "\n",
    "#     /// 1. hash plain address\n",
    "#     const stringHash = ethers.utils.solidityKeccak256([\"address\"], [string]);\n",
    "#     const stringHashbinary = ethers.utils.arrayify(stringHasawait sign_address2\n",
    "# }\n",
    "# </JS CODE>\n",
    "\n",
    "# Here is a start: \n",
    "\n",
    "# <PYTHON CODE>\n",
    "# import hashlib\n",
    "# from web3 import Web3\n",
    "# import eth_account\n",
    "\n",
    "# def solidity_hash_address(address):\n",
    "#     # hashes an address to a 32 byte hex string\n",
    "#     return Web3.solidityKeccak([\"address\"], [address])\n",
    "\n",
    "# def sign_address(string, private_key):\n",
    "#     # 1. hash plain address\n",
    "#     string_hash = solidity_hash_address(string)\n",
    "    \n",
    "#     # >FILL OUT THIS PART<\n",
    "\n",
    "#     # 2. add eth msg prefix, then hash, then sign\n",
    "#     w3 = Web3()\n",
    "#     message = w3.eth.account.sign_message( ... , private_key=private_key)\n",
    "#     return message.signature.hex()\n",
    "# </PYTHON CODE>"
   ]
  },
  {
   "cell_type": "code",
   "execution_count": 98,
   "metadata": {},
   "outputs": [],
   "source": [
    "import web3\n",
    "from eth_account import Account\n",
    "\n",
    "def solidity_hash_address(address):\n",
    "    # hashes an address to a 32 byte hex string\n",
    "    return web3.Web3.solidityKeccak([\"address\"], [address]).hex()\n",
    "\n",
    "async def sign_address(string, private_key):\n",
    "    # assert string is an address (starts with 0x and is 42 chars long)\n",
    "    assert string.startswith(\"0x\") and len(string) == 42, \"String is not an address\"\n",
    "\n",
    "    # 1. hash plain address\n",
    "    string_hash = solidity_hash_address(string)\n",
    "\n",
    "    # 2. add eth msg prefix\n",
    "    message = \"\\x19Ethereum Signed Message:\\n32\" + string_hash\n",
    "    # turn from string to bytes\n",
    "    message_binary = web3.Web3.toBytes(text=message)\n",
    "    message_bytes = bytes(message, \"utf-8\")\n",
    "    print(f\"message_bytes: {message_bytes}\")\n",
    "    print(f\"message_binary: {message_binary}\")\n",
    "\n",
    "    # 3. hash\n",
    "    message_hash = web3.Web3.solidityKeccak([\"bytes\"], [message_bytes])\n",
    "\n",
    "    # 4. sign\n",
    "    account = Account.privateKeyToAccount(private_key)\n",
    "    signature = account.signHash(message_hash)\n",
    "    print(signature.signature.hex())\n",
    "    return\n",
    "\n",
    "    # 4. sign\n",
    "    account = Account.privateKeyToAccount(private_key)\n",
    "    signature = account.signHash(message_hash_binary)\n",
    "    print(signature.signature.hex())\n",
    "\n",
    "    # 2. add eth msg prefix, then hash, then sign\n",
    "    message = web3.Web3.solidityKeccak([\"bytes\"], [string_hash_binary])\n",
    "    message_hex = message.hex()\n",
    "    message_bytes = bytes.fromhex(message_hex[2:])  # remove the \"0x\" prefix\n",
    "    account = Account.privateKeyToAccount(private_key)\n",
    "    signature = account.signHash(message_bytes)\n",
    "    return signature.signature.hex()\n",
    "\n",
    "\n",
    "\n",
    "async def sign_address2(string, private_key):\n",
    "    # assert string is an address (starts with 0x and is 42 chars long)\n",
    "    assert string.startswith(\"0x\") and len(string) == 42, \"String is not an address\"\n",
    "\n",
    "    # 1. hash plain address\n",
    "    string_hash = solidity_hash_address(string)\n",
    "\n",
    "    # 2. add eth msg prefix\n",
    "    message = \"\\x19Ethereum Signed Message:\" + string_hash\n",
    "    encoded_message = encode_defunct(text = message)\n",
    "\n",
    "    w3 = Web3()\n",
    "    message = w3.eth.account.sign_message(encoded_message, private_key=private_key)\n",
    "\n",
    "    return message.signature.hex()\n",
    "\n"
   ]
  },
  {
   "cell_type": "code",
   "execution_count": 99,
   "metadata": {},
   "outputs": [
    {
     "data": {
      "text/plain": [
       "'0x58d8b7ca2e0f996281a6cc8baf4fdf34be6c993f48abc8e0a2e1ca2540b5c7a9475cc312ee502291f28841726c751add1e8d85d424ddb1d6756f932e7bb60e901c'"
      ]
     },
     "execution_count": 99,
     "metadata": {},
     "output_type": "execute_result"
    }
   ],
   "source": [
    "await sign_address2(\"0x5B38Da6a701c568545dCfcB03FcB875f56beddC4\", private_key)\n"
   ]
  },
  {
   "cell_type": "code",
   "execution_count": 100,
   "metadata": {},
   "outputs": [
    {
     "name": "stdout",
     "output_type": "stream",
     "text": [
      "message_bytes: b'\\x19Ethereum Signed Message:\\n320x5931b4ed56ace4c46b68524cb5bcbf4195f1bbaacbe5228fbd090546c88dd229'\n",
      "message_binary: b'\\x19Ethereum Signed Message:\\n320x5931b4ed56ace4c46b68524cb5bcbf4195f1bbaacbe5228fbd090546c88dd229'\n",
      "0x1107bf35d8afde2a8147d1547d38837327f68d6ccac64e51912667e127f4bbdf79e448eea6dc437e37f5960b60ee230eb7dd2398c08bab6b1ec644068a9eea981b\n"
     ]
    }
   ],
   "source": [
    "await sign_address(\"0x5B38Da6a701c568545dCfcB03FcB875f56beddC4\", private_key)\n",
    "# 0xcffbbbc4a538238a7945baffad39d6950fd424a52144bb9beb680ebbc85d7f026274d8449192b49a635d63f2fa886fa0c61f9b9aa920cbd228afb8a34c7cb9711b"
   ]
  },
  {
   "cell_type": "code",
   "execution_count": 43,
   "metadata": {},
   "outputs": [
    {
     "name": "stdout",
     "output_type": "stream",
     "text": [
      "0x5931b4ed56ace4c46b68524cb5bcbf4195f1bbaacbe5228fbd090546c88dd229\n",
      "0x5931b4ed56ace4c46b68524cb5bcbf4195f1bbaacbe5228fbd090546c88dd229\n"
     ]
    }
   ],
   "source": [
    "print(solidity_hash_address(\"0x5B38Da6a701c568545dCfcB03FcB875f56beddC4\").hex())\n",
    "print(solidity_hash_address2(\"0x5B38Da6a701c568545dCfcB03FcB875f56beddC4\"))"
   ]
  },
  {
   "cell_type": "code",
   "execution_count": null,
   "metadata": {},
   "outputs": [],
   "source": [
    "\n",
    "\n",
    "web3.Web3.eth.sign(receiver_address, message_hash)\n",
    "signature = sign_string(receiver_address, private_key)\n",
    "print(signature)"
   ]
  },
  {
   "cell_type": "code",
   "execution_count": 44,
   "metadata": {},
   "outputs": [
    {
     "name": "stdout",
     "output_type": "stream",
     "text": [
      "b'Y1\\xb4\\xedV\\xac\\xe4\\xc4khRL\\xb5\\xbc\\xbfA\\x95\\xf1\\xbb\\xaa\\xcb\\xe5\"\\x8f\\xbd\\t\\x05F\\xc8\\x8d\\xd2)'\n"
     ]
    },
    {
     "data": {
      "text/plain": [
       "'0xb015d76772ee2836bc8febe5249497e58a48e738255b047aa0ba33631d7d962640cc56e24be9b3b12a0357bb39036400c7db90f0a894839cc03c6e85b737333c1b'"
      ]
     },
     "execution_count": 44,
     "metadata": {},
     "output_type": "execute_result"
    }
   ],
   "source": [
    "await sign_address2(\"0x5B38Da6a701c568545dCfcB03FcB875f56beddC4\", private_key)\n",
    "# 0xcffbbbc4a538238a7945baffad39d6950fd424a52144bb9beb680ebbc85d7f026274d8449192b49a635d63f2fa886fa0c61f9b9aa920cbd228afb8a34c7cb9711b"
   ]
  },
  {
   "cell_type": "code",
   "execution_count": 32,
   "metadata": {},
   "outputs": [
    {
     "data": {
      "text/plain": [
       "HexBytes('0x5931b4ed56ace4c46b68524cb5bcbf4195f1bbaacbe5228fbd090546c88dd229')"
      ]
     },
     "execution_count": 32,
     "metadata": {},
     "output_type": "execute_result"
    }
   ],
   "source": [
    "def solidity_hash_address(address):\n",
    "    # hashes an address to a 32 byte hex string\n",
    "    return Web3.solidityKeccak([\"address\"], [address])\n",
    "\n",
    "solidity_hash_address(receiver_address)"
   ]
  },
  {
   "cell_type": "code",
   "execution_count": 116,
   "metadata": {},
   "outputs": [
    {
     "name": "stdout",
     "output_type": "stream",
     "text": [
      "Recovered address: 0x5ce9454909639D2D17A3F753ce7d93fa0b9aB12E, original address: 0x5ce9454909639D2D17A3F753ce7d93fa0b9aB12E\n"
     ]
    }
   ],
   "source": [
    "from web3.auto import w3\n",
    "from eth_account.messages import encode_defunct\n",
    "\n",
    "msg = \"I♥SF\"\n",
    "private_key = b\"\\xb2\\\\}\\xb3\\x1f\\xee\\xd9\\x12''\\xbf\\t9\\xdcv\\x9a\\x96VK-\\xe4\\xc4rm\\x03[6\\xec\\xf1\\xe5\\xb3d\"\n",
    "# private_key = \"0xb25c7db31feed9122727bf0939dc769a96564b2de4c4726d035b36ecf1e5b364\"\n",
    "address_from_private_key = w3.eth.account.privateKeyToAccount(private_key).address\n",
    "message = encode_defunct(text=msg)\n",
    "signed_message = w3.eth.account.sign_message(message, private_key=private_key)\n",
    "# signed_message\n",
    "message = encode_defunct(text=\"I♥SF\")\n",
    "recovered_address = w3.eth.account.recover_message(message, signature=signed_message.signature)\n",
    "print(f\"Recovered address: {recovered_address}, original address: {address_from_private_key}\")\n",
    "assert recovered_address == address_from_private_key"
   ]
  },
  {
   "cell_type": "code",
   "execution_count": 113,
   "metadata": {},
   "outputs": [
    {
     "ename": "AttributeError",
     "evalue": "'str' object has no attribute 'hex'",
     "output_type": "error",
     "traceback": [
      "\u001b[0;31m---------------------------------------------------------------------------\u001b[0m",
      "\u001b[0;31mAttributeError\u001b[0m                            Traceback (most recent call last)",
      "Cell \u001b[0;32mIn [113], line 1\u001b[0m\n\u001b[0;32m----> 1\u001b[0m private_key_string \u001b[39m=\u001b[39m \u001b[39m\"\u001b[39m\u001b[39m0x\u001b[39m\u001b[39m\"\u001b[39m \u001b[39m+\u001b[39m private_key\u001b[39m.\u001b[39mhex()\n",
      "\u001b[0;31mAttributeError\u001b[0m: 'str' object has no attribute 'hex'"
     ]
    }
   ],
   "source": [
    ";'pp'''''Account'''''''''''''''lprivate_key_string = \"0x\" + private_key.hex()"
   ]
  },
  {
   "cell_type": "code",
   "execution_count": 109,
   "metadata": {},
   "outputs": [
    {
     "data": {
      "text/plain": [
       "'0xb25c7db31feed9122727bf0939dc769a96564b2de4c4726d035b36ecf1e5b364'"
      ]
     },
     "execution_count": 109,
     "metadata": {},
     "output_type": "execute_result"
    }
   ],
   "source": [
    "private_key_string"
   ]
  },
  {
   "cell_type": "code",
   "execution_count": null,
   "metadata": {},
   "outputs": [],
   "source": []
  }
 ],
 "metadata": {
  "kernelspec": {
   "display_name": "venv",
   "language": "python",
   "name": "python3"
  },
  "language_info": {
   "codemirror_mode": {
    "name": "ipython",
    "version": 3
   },
   "file_extension": ".py",
   "mimetype": "text/x-python",
   "name": "python",
   "nbconvert_exporter": "python",
   "pygments_lexer": "ipython3",
   "version": "3.10.6 (main, Nov 14 2022, 16:10:14) [GCC 11.3.0]"
  },
  "orig_nbformat": 4,
  "vscode": {
   "interpreter": {
    "hash": "61a19414a2beb8621922a0ec8fba9552491fba7a404191378d93c5782b625803"
   }
  }
 },
 "nbformat": 4,
 "nbformat_minor": 2
}
